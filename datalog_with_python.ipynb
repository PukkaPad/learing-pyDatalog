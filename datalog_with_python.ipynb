{
 "cells": [
  {
   "cell_type": "code",
   "execution_count": 1,
   "metadata": {
    "collapsed": true
   },
   "outputs": [],
   "source": [
    "from pyDatalog import pyDatalog"
   ]
  },
  {
   "cell_type": "markdown",
   "metadata": {},
   "source": [
    "## Variables and expressions"
   ]
  },
  {
   "cell_type": "markdown",
   "metadata": {},
   "source": [
    "### Declare variables"
   ]
  },
  {
   "cell_type": "code",
   "execution_count": 2,
   "metadata": {
    "collapsed": true
   },
   "outputs": [],
   "source": [
    "pyDatalog.create_terms('X,Y')"
   ]
  },
  {
   "cell_type": "code",
   "execution_count": 3,
   "metadata": {},
   "outputs": [
    {
     "name": "stdout",
     "output_type": "stream",
     "text": [
      "X\n",
      "-\n",
      "1\n"
     ]
    }
   ],
   "source": [
    "print (X==1)"
   ]
  },
  {
   "cell_type": "code",
   "execution_count": 4,
   "metadata": {},
   "outputs": [
    {
     "name": "stdout",
     "output_type": "stream",
     "text": [
      "X    | Y    \n",
      "-----|------\n",
      "True | False\n"
     ]
    }
   ],
   "source": [
    "# give me all the X and Y so that X is true and Y is false\n",
    "print((X==True) & (Y==False))"
   ]
  },
  {
   "cell_type": "code",
   "execution_count": 5,
   "metadata": {},
   "outputs": [
    {
     "name": "stdout",
     "output_type": "stream",
     "text": [
      "[]\n"
     ]
    }
   ],
   "source": [
    "# give me all the X that are both true and false\n",
    "print((X==True) & (X==False))"
   ]
  },
  {
   "cell_type": "code",
   "execution_count": 6,
   "metadata": {},
   "outputs": [
    {
     "name": "stdout",
     "output_type": "stream",
     "text": [
      "Please enter your name: World\n",
      "X     | Y      \n",
      "------|--------\n",
      "World | Hello W\n"
     ]
    }
   ],
   "source": [
    "# give me all the X and Y so that X is a name and Y is 'Hello ' followed by the first letter of X\n",
    "print((X==raw_input('Please enter your name: ')) & (Y=='Hello ' + X[0]))"
   ]
  },
  {
   "cell_type": "markdown",
   "metadata": {
    "collapsed": true
   },
   "source": [
    "#### If a variable in an expression is not bound, the query returns an empty solution:"
   ]
  },
  {
   "cell_type": "code",
   "execution_count": 7,
   "metadata": {},
   "outputs": [
    {
     "name": "stdout",
     "output_type": "stream",
     "text": [
      "[]\n"
     ]
    }
   ],
   "source": [
    "print((Y==1) & (Y==X+1))"
   ]
  },
  {
   "cell_type": "markdown",
   "metadata": {},
   "source": [
    "#### Variables can represent nested tuples:"
   ]
  },
  {
   "cell_type": "code",
   "execution_count": 8,
   "metadata": {},
   "outputs": [
    {
     "name": "stdout",
     "output_type": "stream",
     "text": [
      "X         | Y\n",
      "----------|--\n",
      "(1, 2, 3) | 3\n"
     ]
    }
   ],
   "source": [
    "print ((X==(1,2) + (3,)) & (Y==X[2]))"
   ]
  },
  {
   "cell_type": "markdown",
   "metadata": {},
   "source": [
    "#### Functions can be used in logic expressions:"
   ]
  },
  {
   "cell_type": "code",
   "execution_count": 9,
   "metadata": {},
   "outputs": [
    {
     "name": "stdout",
     "output_type": "stream",
     "text": [
      "X | Y\n",
      "--|--\n",
      "1 | 2\n"
     ]
    }
   ],
   "source": [
    "def twice(a):\n",
    "    return a+a\n",
    "\n",
    "pyDatalog.create_terms('twice')\n",
    "print((X==1) & (Y==twice(X)))"
   ]
  },
  {
   "cell_type": "markdown",
   "metadata": {},
   "source": [
    "#### pyDatalog vriables can be passed to functions is the Python standard library:"
   ]
  },
  {
   "cell_type": "code",
   "execution_count": 10,
   "metadata": {},
   "outputs": [
    {
     "name": "stdout",
     "output_type": "stream",
     "text": [
      "X | Y            \n",
      "--|--------------\n",
      "2 | 1.41421356237\n"
     ]
    }
   ],
   "source": [
    "# give me all the X and Y so that X is 2 and Y is the sqrt of X\n",
    "import math\n",
    "pyDatalog.create_terms('math')\n",
    "print((X==2) & (Y==math.sqrt(X)))"
   ]
  },
  {
   "cell_type": "markdown",
   "metadata": {},
   "source": [
    "## Loops"
   ]
  },
  {
   "cell_type": "markdown",
   "metadata": {},
   "source": [
    "### Declare variables"
   ]
  },
  {
   "cell_type": "code",
   "execution_count": 11,
   "metadata": {
    "collapsed": true
   },
   "outputs": [],
   "source": [
    "pyDatalog.create_terms('X,Y,Z')"
   ]
  },
  {
   "cell_type": "markdown",
   "metadata": {},
   "source": [
    "#### .in() method can be used to create a loop:"
   ]
  },
  {
   "cell_type": "code",
   "execution_count": 13,
   "metadata": {},
   "outputs": [
    {
     "name": "stdout",
     "output_type": "stream",
     "text": [
      "X\n",
      "-\n",
      "1\n",
      "4\n",
      "2\n",
      "0\n",
      "3\n"
     ]
    }
   ],
   "source": [
    "print (X.in_((0,1,2,3,4)))"
   ]
  },
  {
   "cell_type": "code",
   "execution_count": 14,
   "metadata": {},
   "outputs": [
    {
     "name": "stdout",
     "output_type": "stream",
     "text": [
      "0\n",
      "1\n",
      "2\n",
      "3\n",
      "4\n"
     ]
    }
   ],
   "source": [
    "for x in range(5):\n",
    "    print x"
   ]
  },
  {
   "cell_type": "markdown",
   "metadata": {},
   "source": [
    "#### .data attribute gives access to the result:"
   ]
  },
  {
   "cell_type": "code",
   "execution_count": 15,
   "metadata": {},
   "outputs": [
    {
     "name": "stdout",
     "output_type": "stream",
     "text": [
      "[(3,), (4,), (1,), (2,), (0,)]\n"
     ]
    }
   ],
   "source": [
    "print (X.in_(range(5)).data)"
   ]
  },
  {
   "cell_type": "code",
   "execution_count": 16,
   "metadata": {},
   "outputs": [
    {
     "name": "stdout",
     "output_type": "stream",
     "text": [
      "True\n"
     ]
    }
   ],
   "source": [
    "print(X.in_(range(5)) == set([(0,), (1,), (2,), (3,), (4,)]))"
   ]
  },
  {
   "cell_type": "markdown",
   "metadata": {},
   "source": [
    "#### to access values:"
   ]
  },
  {
   "cell_type": "code",
   "execution_count": 20,
   "metadata": {},
   "outputs": [
    {
     "name": "stdout",
     "output_type": "stream",
     "text": [
      "('Data: ', [0, 1])\n",
      "('First value: ', 0)\n",
      "('Extraction of first value of X: ', 0)\n",
      "('X smaller than 2', [(1,), (0,)])\n"
     ]
    }
   ],
   "source": [
    "print ('Data: ', X.data)\n",
    "# First result (or None) can be obtained with .v():\n",
    "print ('First value: ', X.v())\n",
    "# >= is a variable extraction operator:\n",
    "print ('Extraction of first value of X: ', X.in_(range(5)) >= X)\n",
    "# & operator con be used to filter the result\n",
    "print ('X smaller than 2', X.in_(range(5)) & (X<2))"
   ]
  },
  {
   "cell_type": "markdown",
   "metadata": {},
   "source": [
    "#### nested loops:"
   ]
  },
  {
   "cell_type": "code",
   "execution_count": 21,
   "metadata": {},
   "outputs": [
    {
     "name": "stdout",
     "output_type": "stream",
     "text": [
      "X | Y | Z\n",
      "--|---|--\n",
      "1 | 0 | 1\n",
      "0 | 1 | 1\n",
      "0 | 0 | 0\n",
      "0 | 2 | 2\n",
      "2 | 0 | 2\n",
      "1 | 1 | 2\n"
     ]
    }
   ],
   "source": [
    "# give me all X, Y and Z so that X and Y are in 0..4, Z is their sum, and Z is below 3:\n",
    "print (X.in_(range(5)) &\n",
    "          Y.in_(range(5)) &\n",
    "              (Z==X+Y) &\n",
    "              (Z<3))"
   ]
  },
  {
   "cell_type": "markdown",
   "metadata": {},
   "source": [
    "## Logic Functions and dictionaries"
   ]
  },
  {
   "cell_type": "markdown",
   "metadata": {},
   "source": [
    "The example will calculate the net salary of employee foo and bar"
   ]
  },
  {
   "cell_type": "code",
   "execution_count": 22,
   "metadata": {
    "collapsed": true
   },
   "outputs": [],
   "source": [
    "# logic function names (salary, tax_rate, etc) starts with a lower case\n",
    "pyDatalog.create_terms('X,Y,Z, salary, tax_rate, tax_rate_for_salary_above, net_salary')"
   ]
  },
  {
   "cell_type": "markdown",
   "metadata": {},
   "source": [
    "#### Similar to a dictionary, a function defines one value for a given argument"
   ]
  },
  {
   "cell_type": "code",
   "execution_count": 23,
   "metadata": {
    "collapsed": true
   },
   "outputs": [],
   "source": [
    "salary['foo'] = 60\n",
    "salary['bar'] = 110"
   ]
  },
  {
   "cell_type": "code",
   "execution_count": 24,
   "metadata": {
    "collapsed": true
   },
   "outputs": [],
   "source": [
    "# Python equivalent\n",
    "_salary = dict()\n",
    "_salary['foo'] = 60\n",
    "_salary['bar'] = 110"
   ]
  },
  {
   "cell_type": "code",
   "execution_count": 25,
   "metadata": {},
   "outputs": [
    {
     "name": "stdout",
     "output_type": "stream",
     "text": [
      "X   | Y  \n",
      "----|----\n",
      "bar | 110\n",
      "foo | 60 \n"
     ]
    }
   ],
   "source": [
    "# give all the X and Y so that the salary of X is Y\n",
    "print (salary[X]==Y)"
   ]
  },
  {
   "cell_type": "code",
   "execution_count": 26,
   "metadata": {},
   "outputs": [
    {
     "name": "stdout",
     "output_type": "stream",
     "text": [
      "[('foo', 60), ('bar', 110)]\n"
     ]
    }
   ],
   "source": [
    "# python equivalent\n",
    "print(_salary.items())"
   ]
  },
  {
   "cell_type": "code",
   "execution_count": 27,
   "metadata": {},
   "outputs": [
    {
     "name": "stdout",
     "output_type": "stream",
     "text": [
      "Y \n",
      "--\n",
      "70\n"
     ]
    }
   ],
   "source": [
    "# foo now has a salary of 70:\n",
    "salary['foo'] = 70\n",
    "print(salary['foo'] == Y)"
   ]
  },
  {
   "cell_type": "code",
   "execution_count": 28,
   "metadata": {},
   "outputs": [
    {
     "name": "stdout",
     "output_type": "stream",
     "text": [
      "foo --> 70\n"
     ]
    }
   ],
   "source": [
    "# Python equivalent\n",
    "_salary['foo'] = 70\n",
    "print('foo --> ' + str(_salary['foo']))"
   ]
  },
  {
   "cell_type": "markdown",
   "metadata": {},
   "source": [
    "#### function can be queried by value:"
   ]
  },
  {
   "cell_type": "code",
   "execution_count": 29,
   "metadata": {},
   "outputs": [
    {
     "name": "stdout",
     "output_type": "stream",
     "text": [
      "X  \n",
      "---\n",
      "bar\n"
     ]
    }
   ],
   "source": [
    "# give me all the X that have a salary of 110:\n",
    "print (salary[X]==110)"
   ]
  },
  {
   "cell_type": "code",
   "execution_count": 30,
   "metadata": {},
   "outputs": [
    {
     "name": "stdout",
     "output_type": "stream",
     "text": [
      "bar --> 110\n"
     ]
    }
   ],
   "source": [
    "# procedural equivalent in python\n",
    "for i, j in _salary.items():\n",
    "    if j==110:\n",
    "        print i, '-->', j"
   ]
  },
  {
   "cell_type": "code",
   "execution_count": 31,
   "metadata": {},
   "outputs": [
    {
     "name": "stdout",
     "output_type": "stream",
     "text": [
      "X   | Y \n",
      "----|---\n",
      "foo | 70\n"
     ]
    }
   ],
   "source": [
    "print ((salary[X]==Y) & ~(Y==110))"
   ]
  },
  {
   "cell_type": "code",
   "execution_count": 32,
   "metadata": {
    "collapsed": true
   },
   "outputs": [],
   "source": [
    "# None will be used for the function argument\n",
    "# the standard tax rate is 33%\n",
    "# + seems to assert that None will be assigned to tax_rate \n",
    "+(tax_rate[None]==0.33)"
   ]
  },
  {
   "cell_type": "code",
   "execution_count": 48,
   "metadata": {},
   "outputs": [
    {
     "name": "stdout",
     "output_type": "stream",
     "text": [
      "X   | Z   \n",
      "----|-----\n",
      "bar | 73.7\n",
      "foo | 46.9\n"
     ]
    }
   ],
   "source": [
    "print (Z==salary[X] * (1-tax_rate[None]))"
   ]
  },
  {
   "cell_type": "code",
   "execution_count": 50,
   "metadata": {},
   "outputs": [
    {
     "name": "stdout",
     "output_type": "stream",
     "text": [
      "X   | Y   \n",
      "----|-----\n",
      "bar | 73.7\n",
      "foo | 46.9\n"
     ]
    }
   ],
   "source": [
    "# the net salary of X is Y if Y is the salary of X, reduced by the tax rate\n",
    "net_salary[X] = salary[X] * (1-tax_rate[None])\n",
    "# give me all the X and Y so that Y is the net salary of X\n",
    "print(net_salary[X]==Y)"
   ]
  },
  {
   "cell_type": "code",
   "execution_count": 51,
   "metadata": {},
   "outputs": [
    {
     "name": "stdout",
     "output_type": "stream",
     "text": [
      "foo 46.9\n",
      "bar 73.7\n"
     ]
    }
   ],
   "source": [
    "# procedural equivalent in Python:\n",
    "for i,j in _salary.items():\n",
    "    k = j*(1-0.33)\n",
    "    print i,k   "
   ]
  },
  {
   "cell_type": "code",
   "execution_count": null,
   "metadata": {
    "collapsed": true
   },
   "outputs": [],
   "source": [
    "# give me the net salary of foo\n",
    "print(net_salary['foo']==Y)\n",
    " \n",
    "    "
   ]
  }
 ],
 "metadata": {
  "kernelspec": {
   "display_name": "Python 2",
   "language": "python",
   "name": "python2"
  },
  "language_info": {
   "codemirror_mode": {
    "name": "ipython",
    "version": 2
   },
   "file_extension": ".py",
   "mimetype": "text/x-python",
   "name": "python",
   "nbconvert_exporter": "python",
   "pygments_lexer": "ipython2",
   "version": "2.7.13"
  }
 },
 "nbformat": 4,
 "nbformat_minor": 2
}
